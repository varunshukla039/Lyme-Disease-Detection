{
  "nbformat": 4,
  "nbformat_minor": 0,
  "metadata": {
    "colab": {
      "provenance": []
    },
    "kernelspec": {
      "name": "python3",
      "display_name": "Python 3"
    },
    "language_info": {
      "name": "python"
    },
    "accelerator": "GPU"
  },
  "cells": [
    {
      "cell_type": "markdown",
      "source": [
        "# Getting Started"
      ],
      "metadata": {
        "id": "1EkNsf_kFWIb"
      }
    },
    {
      "cell_type": "code",
      "source": [
        "from google.colab import drive\n",
        "drive.mount('/content/drive')"
      ],
      "metadata": {
        "id": "Olbt1d6CcdfX",
        "colab": {
          "base_uri": "https://localhost:8080/"
        },
        "outputId": "584b7980-2fc7-421e-f4ee-50b565979e6c"
      },
      "execution_count": null,
      "outputs": [
        {
          "output_type": "stream",
          "name": "stdout",
          "text": [
            "Mounted at /content/drive\n"
          ]
        }
      ]
    },
    {
      "cell_type": "code",
      "source": [
        "#@title\n",
        "import numpy as np\n",
        "import pandas as pd\n",
        "import matplotlib.pyplot as plt\n",
        "%matplotlib inline\n",
        "\n",
        "import tensorflow as tf"
      ],
      "metadata": {
        "_uuid": "d629ff2d2480ee46fbb7e2d37f6b5fab8052498a",
        "_cell_guid": "79c7e3d0-c299-4dcb-8224-4455121ee9b0",
        "execution": {
          "iopub.status.busy": "2022-02-16T17:35:51.425643Z",
          "iopub.execute_input": "2022-02-16T17:35:51.425956Z",
          "iopub.status.idle": "2022-02-16T17:35:55.714292Z",
          "shell.execute_reply.started": "2022-02-16T17:35:51.425926Z",
          "shell.execute_reply": "2022-02-16T17:35:55.71345Z"
        },
        "trusted": true,
        "id": "vCp0vWLIFWId"
      },
      "execution_count": null,
      "outputs": []
    },
    {
      "cell_type": "code",
      "source": [
        "train_dir = '/content/drive/MyDrive/Lyme Disease Data/RashData/Train/Train_2_Cases'\n",
        "val_dir = '/content/drive/MyDrive/Lyme Disease Data/RashData/Validation/Validation_2_Cases'"
      ],
      "metadata": {
        "execution": {
          "iopub.status.busy": "2022-02-16T17:35:55.716232Z",
          "iopub.execute_input": "2022-02-16T17:35:55.716606Z",
          "iopub.status.idle": "2022-02-16T17:35:55.720221Z",
          "shell.execute_reply.started": "2022-02-16T17:35:55.716573Z",
          "shell.execute_reply": "2022-02-16T17:35:55.719436Z"
        },
        "trusted": true,
        "id": "VAljjSjbFWIh"
      },
      "execution_count": null,
      "outputs": []
    },
    {
      "cell_type": "code",
      "source": [
        "batch_size = 32\n",
        "\n",
        "img_height = 128\n",
        "img_width = 128"
      ],
      "metadata": {
        "execution": {
          "iopub.status.busy": "2022-02-16T17:35:55.72173Z",
          "iopub.execute_input": "2022-02-16T17:35:55.722533Z",
          "iopub.status.idle": "2022-02-16T17:35:55.732936Z",
          "shell.execute_reply.started": "2022-02-16T17:35:55.722493Z",
          "shell.execute_reply": "2022-02-16T17:35:55.732187Z"
        },
        "trusted": true,
        "id": "qP_ltSucFWIi"
      },
      "execution_count": null,
      "outputs": []
    },
    {
      "cell_type": "code",
      "source": [
        "train_ds = tf.keras.preprocessing.image_dataset_from_directory(\n",
        "    train_dir,\n",
        "    validation_split=0.5,\n",
        "    seed=42,\n",
        "    subset='training',\n",
        "    batch_size=batch_size,\n",
        "    image_size=(img_height, img_width)\n",
        ")\n",
        "\n",
        "val_ds = tf.keras.preprocessing.image_dataset_from_directory(\n",
        "    train_dir,\n",
        "    validation_split=0.5,\n",
        "    seed=42,\n",
        "    subset='validation',\n",
        "    batch_size=batch_size,\n",
        "    image_size=(img_height, img_width)\n",
        ")\n",
        "\n",
        "test_ds = tf.keras.preprocessing.image_dataset_from_directory(\n",
        "    val_dir,\n",
        "    batch_size=batch_size,\n",
        "    image_size=(img_height, img_width),\n",
        "    seed=42\n",
        ")"
      ],
      "metadata": {
        "execution": {
          "iopub.status.busy": "2022-02-16T17:35:55.735791Z",
          "iopub.execute_input": "2022-02-16T17:35:55.736057Z",
          "iopub.status.idle": "2022-02-16T17:35:58.185589Z",
          "shell.execute_reply.started": "2022-02-16T17:35:55.736032Z",
          "shell.execute_reply": "2022-02-16T17:35:58.184853Z"
        },
        "trusted": true,
        "id": "qR16UV_FFWIj",
        "colab": {
          "base_uri": "https://localhost:8080/",
          "height": 380
        },
        "outputId": "ee673f97-c601-4a22-a12d-c27af58a5663"
      },
      "execution_count": null,
      "outputs": [
        {
          "output_type": "error",
          "ename": "NotFoundError",
          "evalue": "ignored",
          "traceback": [
            "\u001b[0;31m---------------------------------------------------------------------------\u001b[0m",
            "\u001b[0;31mNotFoundError\u001b[0m                             Traceback (most recent call last)",
            "\u001b[0;32m<ipython-input-5-73501a795bb3>\u001b[0m in \u001b[0;36m<cell line: 1>\u001b[0;34m()\u001b[0m\n\u001b[0;32m----> 1\u001b[0;31m train_ds = tf.keras.preprocessing.image_dataset_from_directory(\n\u001b[0m\u001b[1;32m      2\u001b[0m     \u001b[0mtrain_dir\u001b[0m\u001b[0;34m,\u001b[0m\u001b[0;34m\u001b[0m\u001b[0;34m\u001b[0m\u001b[0m\n\u001b[1;32m      3\u001b[0m     \u001b[0mvalidation_split\u001b[0m\u001b[0;34m=\u001b[0m\u001b[0;36m0.5\u001b[0m\u001b[0;34m,\u001b[0m\u001b[0;34m\u001b[0m\u001b[0;34m\u001b[0m\u001b[0m\n\u001b[1;32m      4\u001b[0m     \u001b[0mseed\u001b[0m\u001b[0;34m=\u001b[0m\u001b[0;36m42\u001b[0m\u001b[0;34m,\u001b[0m\u001b[0;34m\u001b[0m\u001b[0;34m\u001b[0m\u001b[0m\n\u001b[1;32m      5\u001b[0m     \u001b[0msubset\u001b[0m\u001b[0;34m=\u001b[0m\u001b[0;34m'training'\u001b[0m\u001b[0;34m,\u001b[0m\u001b[0;34m\u001b[0m\u001b[0;34m\u001b[0m\u001b[0m\n",
            "\u001b[0;32m/usr/local/lib/python3.10/dist-packages/keras/utils/image_dataset.py\u001b[0m in \u001b[0;36mimage_dataset_from_directory\u001b[0;34m(directory, labels, label_mode, class_names, color_mode, batch_size, image_size, shuffle, seed, validation_split, subset, interpolation, follow_links, crop_to_aspect_ratio, **kwargs)\u001b[0m\n\u001b[1;32m    208\u001b[0m     \u001b[0;32mif\u001b[0m \u001b[0mseed\u001b[0m \u001b[0;32mis\u001b[0m \u001b[0;32mNone\u001b[0m\u001b[0;34m:\u001b[0m\u001b[0;34m\u001b[0m\u001b[0;34m\u001b[0m\u001b[0m\n\u001b[1;32m    209\u001b[0m         \u001b[0mseed\u001b[0m \u001b[0;34m=\u001b[0m \u001b[0mnp\u001b[0m\u001b[0;34m.\u001b[0m\u001b[0mrandom\u001b[0m\u001b[0;34m.\u001b[0m\u001b[0mrandint\u001b[0m\u001b[0;34m(\u001b[0m\u001b[0;36m1e6\u001b[0m\u001b[0;34m)\u001b[0m\u001b[0;34m\u001b[0m\u001b[0;34m\u001b[0m\u001b[0m\n\u001b[0;32m--> 210\u001b[0;31m     image_paths, labels, class_names = dataset_utils.index_directory(\n\u001b[0m\u001b[1;32m    211\u001b[0m         \u001b[0mdirectory\u001b[0m\u001b[0;34m,\u001b[0m\u001b[0;34m\u001b[0m\u001b[0;34m\u001b[0m\u001b[0m\n\u001b[1;32m    212\u001b[0m         \u001b[0mlabels\u001b[0m\u001b[0;34m,\u001b[0m\u001b[0;34m\u001b[0m\u001b[0;34m\u001b[0m\u001b[0m\n",
            "\u001b[0;32m/usr/local/lib/python3.10/dist-packages/keras/utils/dataset_utils.py\u001b[0m in \u001b[0;36mindex_directory\u001b[0;34m(directory, labels, formats, class_names, shuffle, seed, follow_links)\u001b[0m\n\u001b[1;32m    540\u001b[0m     \u001b[0;32melse\u001b[0m\u001b[0;34m:\u001b[0m\u001b[0;34m\u001b[0m\u001b[0;34m\u001b[0m\u001b[0m\n\u001b[1;32m    541\u001b[0m         \u001b[0msubdirs\u001b[0m \u001b[0;34m=\u001b[0m \u001b[0;34m[\u001b[0m\u001b[0;34m]\u001b[0m\u001b[0;34m\u001b[0m\u001b[0;34m\u001b[0m\u001b[0m\n\u001b[0;32m--> 542\u001b[0;31m         \u001b[0;32mfor\u001b[0m \u001b[0msubdir\u001b[0m \u001b[0;32min\u001b[0m \u001b[0msorted\u001b[0m\u001b[0;34m(\u001b[0m\u001b[0mtf\u001b[0m\u001b[0;34m.\u001b[0m\u001b[0mio\u001b[0m\u001b[0;34m.\u001b[0m\u001b[0mgfile\u001b[0m\u001b[0;34m.\u001b[0m\u001b[0mlistdir\u001b[0m\u001b[0;34m(\u001b[0m\u001b[0mdirectory\u001b[0m\u001b[0;34m)\u001b[0m\u001b[0;34m)\u001b[0m\u001b[0;34m:\u001b[0m\u001b[0;34m\u001b[0m\u001b[0;34m\u001b[0m\u001b[0m\n\u001b[0m\u001b[1;32m    543\u001b[0m             \u001b[0;32mif\u001b[0m \u001b[0mtf\u001b[0m\u001b[0;34m.\u001b[0m\u001b[0mio\u001b[0m\u001b[0;34m.\u001b[0m\u001b[0mgfile\u001b[0m\u001b[0;34m.\u001b[0m\u001b[0misdir\u001b[0m\u001b[0;34m(\u001b[0m\u001b[0mtf\u001b[0m\u001b[0;34m.\u001b[0m\u001b[0mio\u001b[0m\u001b[0;34m.\u001b[0m\u001b[0mgfile\u001b[0m\u001b[0;34m.\u001b[0m\u001b[0mjoin\u001b[0m\u001b[0;34m(\u001b[0m\u001b[0mdirectory\u001b[0m\u001b[0;34m,\u001b[0m \u001b[0msubdir\u001b[0m\u001b[0;34m)\u001b[0m\u001b[0;34m)\u001b[0m\u001b[0;34m:\u001b[0m\u001b[0;34m\u001b[0m\u001b[0;34m\u001b[0m\u001b[0m\n\u001b[1;32m    544\u001b[0m                 \u001b[0;32mif\u001b[0m \u001b[0msubdir\u001b[0m\u001b[0;34m.\u001b[0m\u001b[0mendswith\u001b[0m\u001b[0;34m(\u001b[0m\u001b[0;34m\"/\"\u001b[0m\u001b[0;34m)\u001b[0m\u001b[0;34m:\u001b[0m\u001b[0;34m\u001b[0m\u001b[0;34m\u001b[0m\u001b[0m\n",
            "\u001b[0;32m/usr/local/lib/python3.10/dist-packages/tensorflow/python/lib/io/file_io.py\u001b[0m in \u001b[0;36mlist_directory_v2\u001b[0;34m(path)\u001b[0m\n\u001b[1;32m    766\u001b[0m   \"\"\"\n\u001b[1;32m    767\u001b[0m   \u001b[0;32mif\u001b[0m \u001b[0;32mnot\u001b[0m \u001b[0mis_directory\u001b[0m\u001b[0;34m(\u001b[0m\u001b[0mpath\u001b[0m\u001b[0;34m)\u001b[0m\u001b[0;34m:\u001b[0m\u001b[0;34m\u001b[0m\u001b[0;34m\u001b[0m\u001b[0m\n\u001b[0;32m--> 768\u001b[0;31m     raise errors.NotFoundError(\n\u001b[0m\u001b[1;32m    769\u001b[0m         \u001b[0mnode_def\u001b[0m\u001b[0;34m=\u001b[0m\u001b[0;32mNone\u001b[0m\u001b[0;34m,\u001b[0m\u001b[0;34m\u001b[0m\u001b[0;34m\u001b[0m\u001b[0m\n\u001b[1;32m    770\u001b[0m         \u001b[0mop\u001b[0m\u001b[0;34m=\u001b[0m\u001b[0;32mNone\u001b[0m\u001b[0;34m,\u001b[0m\u001b[0;34m\u001b[0m\u001b[0;34m\u001b[0m\u001b[0m\n",
            "\u001b[0;31mNotFoundError\u001b[0m: Could not find directory /content/drive/MyDrive/Lyme Disease Data/RashData/Train/Train_2_Cases"
          ]
        }
      ]
    },
    {
      "cell_type": "code",
      "source": [
        "class_names = train_ds.class_names\n",
        "print(class_names)"
      ],
      "metadata": {
        "execution": {
          "iopub.status.busy": "2022-02-16T17:35:58.187722Z",
          "iopub.execute_input": "2022-02-16T17:35:58.18797Z",
          "iopub.status.idle": "2022-02-16T17:35:58.192817Z",
          "shell.execute_reply.started": "2022-02-16T17:35:58.187945Z",
          "shell.execute_reply": "2022-02-16T17:35:58.191697Z"
        },
        "trusted": true,
        "id": "scw7m-_PFWIl"
      },
      "execution_count": null,
      "outputs": []
    },
    {
      "cell_type": "markdown",
      "source": [
        "# Visualization"
      ],
      "metadata": {
        "id": "a_Cu6AS6FWIn"
      }
    },
    {
      "cell_type": "code",
      "source": [
        "plt.figure(figsize=(10, 10))\n",
        "for images, labels in train_ds.take(1):\n",
        "    for i in range(9):\n",
        "        plt.subplot(3, 3, i + 1)\n",
        "        plt.imshow(images[i].numpy().astype('uint8'))\n",
        "        plt.title(class_names[labels[i]])\n",
        "        plt.axis('off')\n",
        "    plt.show()"
      ],
      "metadata": {
        "execution": {
          "iopub.status.busy": "2022-02-16T17:35:58.194163Z",
          "iopub.execute_input": "2022-02-16T17:35:58.194666Z",
          "iopub.status.idle": "2022-02-16T17:36:01.532706Z",
          "shell.execute_reply.started": "2022-02-16T17:35:58.194628Z",
          "shell.execute_reply": "2022-02-16T17:36:01.531567Z"
        },
        "trusted": true,
        "id": "57QVF7-PFWIp"
      },
      "execution_count": null,
      "outputs": []
    },
    {
      "cell_type": "markdown",
      "source": [
        "# Modeling"
      ],
      "metadata": {
        "id": "uwUHqdbZFWIq"
      }
    },
    {
      "cell_type": "code",
      "source": [
        "AUTOTUNE = tf.data.experimental.AUTOTUNE\n",
        "\n",
        "train_ds = train_ds.shuffle(1000).cache().prefetch(buffer_size=AUTOTUNE)\n",
        "val_ds = val_ds.cache().prefetch(buffer_size=AUTOTUNE)\n",
        "test_ds = test_ds.cache().prefetch(buffer_size=AUTOTUNE)"
      ],
      "metadata": {
        "execution": {
          "iopub.status.busy": "2022-02-16T17:36:01.534434Z",
          "iopub.execute_input": "2022-02-16T17:36:01.535036Z",
          "iopub.status.idle": "2022-02-16T17:36:01.546321Z",
          "shell.execute_reply.started": "2022-02-16T17:36:01.534999Z",
          "shell.execute_reply": "2022-02-16T17:36:01.545436Z"
        },
        "trusted": true,
        "id": "kBtv1UPrFWIs"
      },
      "execution_count": null,
      "outputs": []
    },
    {
      "cell_type": "markdown",
      "source": [
        "## CNN (Functional Model)"
      ],
      "metadata": {
        "id": "jZeWWpqbOjhW"
      }
    },
    {
      "cell_type": "code",
      "source": [
        "inputs = tf.keras.Input(shape=(img_height, img_width, 3))\n",
        "x = tf.keras.layers.experimental.preprocessing.Rescaling(1./255)(inputs)\n",
        "\n",
        "x = tf.keras.layers.Conv2D(16, 3, padding='same', activation='relu')(x)\n",
        "x = tf.keras.layers.MaxPooling2D()(x)\n",
        "x = tf.keras.layers.BatchNormalization()(x)\n",
        "x = tf.keras.layers.Dropout(0.1)(x)\n",
        "\n",
        "x = tf.keras.layers.Conv2D(16, 3, padding='same', activation='relu')(x)\n",
        "x = tf.keras.layers.MaxPooling2D()(x)\n",
        "x = tf.keras.layers.BatchNormalization()(x)\n",
        "x = tf.keras.layers.Dropout(0.1)(x)\n",
        "\n",
        "x = tf.keras.layers.Conv2D(32, 3, padding='same', activation='relu')(x)\n",
        "x = tf.keras.layers.MaxPooling2D()(x)\n",
        "x = tf.keras.layers.BatchNormalization()(x)\n",
        "x = tf.keras.layers.Dropout(0.1)(x)\n",
        "\n",
        "x = tf.keras.layers.Conv2D(64, 3, padding='same', activation='relu')(x)\n",
        "x = tf.keras.layers.MaxPooling2D()(x)\n",
        "x = tf.keras.layers.BatchNormalization()(x)\n",
        "x = tf.keras.layers.Dropout(0.1)(x)\n",
        "\n",
        "x = tf.keras.layers.Conv2D(128, 3, padding='same', activation='relu')(x)\n",
        "x = tf.keras.layers.MaxPooling2D()(x)\n",
        "x = tf.keras.layers.BatchNormalization()(x)\n",
        "x = tf.keras.layers.Dropout(0.1)(x)\n",
        "x = tf.keras.layers.Dropout(0.1)(x)\n",
        "\n",
        "x = tf.keras.layers.Conv2D(256, 3, padding='same', activation='relu')(x)\n",
        "x = tf.keras.layers.MaxPooling2D()(x)\n",
        "x = tf.keras.layers.BatchNormalization()(x)\n",
        "x = tf.keras.layers.Dropout(0.1)(x)\n",
        "\n",
        "x = tf.keras.layers.Conv2D(512, 3, padding='same', activation='relu')(x)\n",
        "x = tf.keras.layers.MaxPooling2D()(x)\n",
        "x = tf.keras.layers.BatchNormalization()(x)\n",
        "x = tf.keras.layers.Dropout(0.1)(x)\n",
        "\n",
        "x = tf.keras.layers.Flatten()(x)\n",
        "\n",
        "x = tf.keras.layers.Dense(512, activation='relu')(x)\n",
        "x = tf.keras.layers.Dropout(0.1)(x)\n",
        "\n",
        "x = tf.keras.layers.Dense(512, activation='relu')(x)\n",
        "x = tf.keras.layers.Dropout(0.1)(x)\n",
        "\n",
        "x = tf.keras.layers.Dense(256, activation='relu')(x)\n",
        "x = tf.keras.layers.Dropout(0.1)(x)\n",
        "\n",
        "x = tf.keras.layers.Dense(128, activation='relu')(x)\n",
        "outputs = tf.keras.layers.Dense(1, activation='sigmoid')(x)\n",
        "\n",
        "model = tf.keras.Model(inputs, outputs)"
      ],
      "metadata": {
        "execution": {
          "iopub.status.busy": "2022-02-16T17:36:01.54782Z",
          "iopub.execute_input": "2022-02-16T17:36:01.548202Z",
          "iopub.status.idle": "2022-02-16T17:36:01.707341Z",
          "shell.execute_reply.started": "2022-02-16T17:36:01.548162Z",
          "shell.execute_reply": "2022-02-16T17:36:01.706488Z"
        },
        "trusted": true,
        "id": "6oRYig8TFWIt"
      },
      "execution_count": null,
      "outputs": []
    },
    {
      "cell_type": "code",
      "source": [
        "model.summary()"
      ],
      "metadata": {
        "execution": {
          "iopub.status.busy": "2022-02-16T17:36:01.708862Z",
          "iopub.execute_input": "2022-02-16T17:36:01.709249Z",
          "iopub.status.idle": "2022-02-16T17:36:01.721878Z",
          "shell.execute_reply.started": "2022-02-16T17:36:01.709204Z",
          "shell.execute_reply": "2022-02-16T17:36:01.720349Z"
        },
        "trusted": true,
        "id": "uljoTNh8FWIu"
      },
      "execution_count": null,
      "outputs": []
    },
    {
      "cell_type": "code",
      "source": [
        "from tensorflow.keras.callbacks import EarlyStopping, ReduceLROnPlateau\n",
        "from tensorflow.keras.metrics import Accuracy"
      ],
      "metadata": {
        "execution": {
          "iopub.status.busy": "2022-02-16T17:36:07.180437Z",
          "iopub.execute_input": "2022-02-16T17:36:07.180764Z",
          "iopub.status.idle": "2022-02-16T17:36:07.186393Z",
          "shell.execute_reply.started": "2022-02-16T17:36:07.180734Z",
          "shell.execute_reply": "2022-02-16T17:36:07.185309Z"
        },
        "trusted": true,
        "id": "Dwm5gSLHFWIv"
      },
      "execution_count": null,
      "outputs": []
    },
    {
      "cell_type": "code",
      "source": [
        "model.compile(optimizer=\"Nadam\", loss='binary_crossentropy', metrics=['accuracy', tf.keras.metrics.AUC(name='auc')])"
      ],
      "metadata": {
        "execution": {
          "iopub.status.busy": "2022-02-16T17:36:07.683244Z",
          "iopub.execute_input": "2022-02-16T17:36:07.683606Z",
          "iopub.status.idle": "2022-02-16T17:36:07.707419Z",
          "shell.execute_reply.started": "2022-02-16T17:36:07.683575Z",
          "shell.execute_reply": "2022-02-16T17:36:07.706714Z"
        },
        "trusted": true,
        "id": "TKDci1h6FWIw"
      },
      "execution_count": null,
      "outputs": []
    },
    {
      "cell_type": "code",
      "source": [
        "epochs = 200\n",
        "\n",
        "history = model.fit(\n",
        "    train_ds,\n",
        "    validation_data=val_ds,\n",
        "    batch_size=batch_size,\n",
        "    epochs=epochs,\n",
        "    callbacks=[tf.keras.callbacks.ReduceLROnPlateau(patience=100)],\n",
        "    verbose=1\n",
        ")"
      ],
      "metadata": {
        "execution": {
          "iopub.status.busy": "2022-02-16T17:36:09.936675Z",
          "iopub.execute_input": "2022-02-16T17:36:09.936994Z",
          "iopub.status.idle": "2022-02-16T17:36:20.670516Z",
          "shell.execute_reply.started": "2022-02-16T17:36:09.936965Z",
          "shell.execute_reply": "2022-02-16T17:36:20.669565Z"
        },
        "trusted": true,
        "id": "SldAYBgVFWIx"
      },
      "execution_count": null,
      "outputs": []
    },
    {
      "cell_type": "markdown",
      "source": [
        "# Results"
      ],
      "metadata": {
        "id": "XgH0gmK2FWIy"
      }
    },
    {
      "cell_type": "code",
      "source": [
        "plt.figure(figsize=(20, 10))\n",
        "\n",
        "epochs_range = range(1, epochs + 1)\n",
        "train_loss = history.history['loss']\n",
        "val_loss = history.history['val_loss']\n",
        "train_auc = history.history['auc']\n",
        "val_auc = history.history['val_auc']\n",
        "\n",
        "plt.subplot(1, 2, 1)\n",
        "plt.plot(epochs_range, train_loss, label=\"Training Loss\")\n",
        "plt.plot(epochs_range, val_loss, label=\"Validation Loss\")\n",
        "\n",
        "plt.xlabel(\"Epoch\")\n",
        "plt.ylabel(\"Loss\")\n",
        "plt.title(\"Training and Validation Loss\")\n",
        "plt.legend()\n",
        "\n",
        "plt.subplot(1, 2, 2)\n",
        "plt.plot(epochs_range, train_auc, label=\"Training AUC\", color='b')\n",
        "plt.plot(epochs_range, val_auc, label=\"Validation AUC\", color='r')\n",
        "\n",
        "plt.xlabel(\"Epoch\")\n",
        "plt.ylabel(\"AUC\")\n",
        "plt.title(\"Training and Validation AUC\")\n",
        "plt.legend()\n",
        "\n",
        "plt.show()"
      ],
      "metadata": {
        "execution": {
          "iopub.status.busy": "2022-02-16T17:36:47.822721Z",
          "iopub.execute_input": "2022-02-16T17:36:47.823055Z",
          "iopub.status.idle": "2022-02-16T17:36:48.147614Z",
          "shell.execute_reply.started": "2022-02-16T17:36:47.823021Z",
          "shell.execute_reply": "2022-02-16T17:36:48.146727Z"
        },
        "trusted": true,
        "id": "cSugwqhkFWIz"
      },
      "execution_count": null,
      "outputs": []
    },
    {
      "cell_type": "code",
      "source": [
        "np.argmin(val_loss)"
      ],
      "metadata": {
        "execution": {
          "iopub.status.busy": "2022-02-16T17:36:48.868011Z",
          "iopub.execute_input": "2022-02-16T17:36:48.868328Z",
          "iopub.status.idle": "2022-02-16T17:36:48.874466Z",
          "shell.execute_reply.started": "2022-02-16T17:36:48.868297Z",
          "shell.execute_reply": "2022-02-16T17:36:48.873536Z"
        },
        "trusted": true,
        "id": "oVysdtkkFWI0"
      },
      "execution_count": null,
      "outputs": []
    },
    {
      "cell_type": "code",
      "source": [
        "np.argmax(val_auc)"
      ],
      "metadata": {
        "execution": {
          "iopub.status.busy": "2022-02-16T17:36:49.388923Z",
          "iopub.execute_input": "2022-02-16T17:36:49.389245Z",
          "iopub.status.idle": "2022-02-16T17:36:49.395364Z",
          "shell.execute_reply.started": "2022-02-16T17:36:49.389215Z",
          "shell.execute_reply": "2022-02-16T17:36:49.394437Z"
        },
        "trusted": true,
        "id": "7gILXykJFWI1"
      },
      "execution_count": null,
      "outputs": []
    },
    {
      "cell_type": "code",
      "source": [
        "model.evaluate(test_ds)"
      ],
      "metadata": {
        "execution": {
          "iopub.status.busy": "2022-02-16T17:36:50.279145Z",
          "iopub.execute_input": "2022-02-16T17:36:50.279476Z",
          "iopub.status.idle": "2022-02-16T17:36:51.043243Z",
          "shell.execute_reply.started": "2022-02-16T17:36:50.279443Z",
          "shell.execute_reply": "2022-02-16T17:36:51.042439Z"
        },
        "trusted": true,
        "id": "ByXG5Z2yFWI3"
      },
      "execution_count": null,
      "outputs": []
    },
    {
      "cell_type": "code",
      "source": [
        "model.save('my_model')"
      ],
      "metadata": {
        "id": "qbUCP_0-WUYK"
      },
      "execution_count": null,
      "outputs": []
    },
    {
      "cell_type": "code",
      "metadata": {
        "id": "E1xYacsSNEt2"
      },
      "source": [
        "import cv2\n",
        "from google.colab.patches import cv2_imshow"
      ],
      "execution_count": null,
      "outputs": []
    },
    {
      "cell_type": "code",
      "source": [
        "label_dict = {0:'Lyme_Negative', 1:'Lyme_Positive'}"
      ],
      "metadata": {
        "id": "eKjP5jp9a9uv"
      },
      "execution_count": null,
      "outputs": []
    },
    {
      "cell_type": "code",
      "metadata": {
        "id": "Tp6vrrJOM4wm"
      },
      "source": [
        "# Prediction on external image...\n",
        "\n",
        "img = cv2.imread(r'/content/drive/MyDrive/download.jpg')\n",
        "img = cv2.resize(img, (128,128))\n",
        "img_final =np.reshape(img, (1,img_height, img_width,3))"
      ],
      "execution_count": null,
      "outputs": []
    },
    {
      "cell_type": "code",
      "source": [
        "model.predict(img_final)"
      ],
      "metadata": {
        "id": "TpPDZ0uBvWL4"
      },
      "execution_count": null,
      "outputs": []
    },
    {
      "cell_type": "code",
      "source": [
        "if model.predict(img_final) > 0.7:\n",
        "  prediction=1\n",
        "else:\n",
        "  prediction=0"
      ],
      "metadata": {
        "id": "cshODyGRuv9N"
      },
      "execution_count": null,
      "outputs": []
    },
    {
      "cell_type": "code",
      "source": [
        "img_pred = label_dict[prediction]\n",
        "cv2.putText(img, \"Prediction: \" + img_pred, (10,15), cv2.FONT_HERSHEY_TRIPLEX, 0.2, color = (0,0,230))\n",
        "cv2.putText(img, \"Prediction: \" + img_pred, (20,410), cv2.FONT_HERSHEY_DUPLEX, 1.3, color = (0,0,230))\n",
        "cv2_imshow(img)"
      ],
      "metadata": {
        "id": "EpNvoEH8umGP"
      },
      "execution_count": null,
      "outputs": []
    },
    {
      "cell_type": "code",
      "source": [],
      "metadata": {
        "id": "7us7z2g7rokJ"
      },
      "execution_count": null,
      "outputs": []
    }
  ]
}